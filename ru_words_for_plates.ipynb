{
 "cells": [
  {
   "cell_type": "code",
   "execution_count": 1,
   "metadata": {},
   "outputs": [
    {
     "name": "stdout",
     "output_type": "stream",
     "text": [
      "Collecting transliterate\n",
      "\u001b[?25l  Downloading https://files.pythonhosted.org/packages/a1/6e/9a9d597dbdd6d0172427c8cc07c35736471e631060df9e59eeb87687f817/transliterate-1.10.2-py2.py3-none-any.whl (45kB)\n",
      "\u001b[K     |████████████████████████████████| 51kB 1.6MB/s eta 0:00:01\n",
      "\u001b[?25hRequirement already satisfied: six>=1.1.0 in /Applications/anaconda3/lib/python3.7/site-packages (from transliterate) (1.12.0)\n",
      "Installing collected packages: transliterate\n",
      "Successfully installed transliterate-1.10.2\n",
      "Note: you may need to restart the kernel to use updated packages.\n"
     ]
    }
   ],
   "source": [
    "pip install transliterate"
   ]
  },
  {
   "cell_type": "code",
   "execution_count": 2,
   "metadata": {},
   "outputs": [
    {
     "name": "stdout",
     "output_type": "stream",
     "text": [
      "Лорем ипсум долор сит амет\n"
     ]
    }
   ],
   "source": [
    "from transliterate import translit, get_available_language_codes\n",
    "text = \"Valera\"\n",
    "print(translit(text, 'ru'))"
   ]
  },
  {
   "cell_type": "code",
   "execution_count": 25,
   "metadata": {},
   "outputs": [],
   "source": [
    "#Change encoding of a text file\n",
    "import codecs\n",
    "BLOCKSIZE = 1048576 \n",
    "with codecs.open('ru_freq_dict.txt', \"r\", \"windows-1251\") as sourceFile:\n",
    "    with codecs.open('ru_freq_dict_utf.txt', \"w\", \"utf-8\") as targetFile:\n",
    "        while True:\n",
    "            contents = sourceFile.read(BLOCKSIZE)\n",
    "            if not contents:\n",
    "                break\n",
    "            targetFile.write(contents)"
   ]
  },
  {
   "cell_type": "code",
   "execution_count": 13,
   "metadata": {},
   "outputs": [
    {
     "name": "stdout",
     "output_type": "stream",
     "text": [
      "Requirement already satisfied: pandas in /Applications/anaconda3/lib/python3.7/site-packages (0.25.1)\n",
      "Requirement already satisfied: pytz>=2017.2 in /Applications/anaconda3/lib/python3.7/site-packages (from pandas) (2019.3)\n",
      "Requirement already satisfied: python-dateutil>=2.6.1 in /Applications/anaconda3/lib/python3.7/site-packages (from pandas) (2.8.0)\n",
      "Requirement already satisfied: numpy>=1.13.3 in /Applications/anaconda3/lib/python3.7/site-packages (from pandas) (1.17.2)\n",
      "Requirement already satisfied: six>=1.5 in /Applications/anaconda3/lib/python3.7/site-packages (from python-dateutil>=2.6.1->pandas) (1.12.0)\n",
      "Note: you may need to restart the kernel to use updated packages.\n"
     ]
    }
   ],
   "source": [
    "pip install pandas"
   ]
  },
  {
   "cell_type": "code",
   "execution_count": 89,
   "metadata": {},
   "outputs": [
    {
     "name": "stdout",
     "output_type": "stream",
     "text": [
      "       Frequency  Percentage                  Word                    Desc  \\\n",
      "Index                                                                        \n",
      "1       36358.94        3.64                    и                    союз    \n",
      "2       27792.36        6.42                    в                предл пр    \n",
      "3       20689.51        8.48                   не                    част    \n",
      "4       18942.62       10.38                   он      мест сущ ед муж им    \n",
      "5       16588.14       12.04                   на               предл вин    \n",
      "...          ...         ...                   ...                     ...   \n",
      "31571       1.04       93.90              сутенер      сущ одуш ед муж им    \n",
      "31572       1.04       93.90         обхохотаться    гл сов непер воз инф    \n",
      "31573       1.04       93.90          зажмуривать      гл несов перех инф    \n",
      "31574       1.04       93.90   главнокомандование       сущ неод ед ср им    \n",
      "31575       1.04       93.90           измотаться    гл сов непер воз инф    \n",
      "\n",
      "          Code  \n",
      "Index           \n",
      "1       207131  \n",
      "2      4127891  \n",
      "3       207538  \n",
      "4        46361  \n",
      "5      4127906  \n",
      "...        ...  \n",
      "31571   141082  \n",
      "31572   188103  \n",
      "31573   179044  \n",
      "31574   167684  \n",
      "31575   187234  \n",
      "\n",
      "[31575 rows x 5 columns]\n"
     ]
    }
   ],
   "source": [
    "import pandas\n",
    "\n",
    "#Import dictionary\n",
    "rudict = pandas.read_csv('ru_freq_dict_utf.txt',\n",
    "                         sep=\"|\",\n",
    "                         encoding='utf8',\n",
    "                         names=['Index','Frequency','Percentage','Word','Desc','Code'],\n",
    "                        index_col='Index')\n",
    "print(rudict)"
   ]
  },
  {
   "cell_type": "code",
   "execution_count": 91,
   "metadata": {
    "scrolled": true
   },
   "outputs": [
    {
     "name": "stdout",
     "output_type": "stream",
     "text": [
      "       Frequency  Percentage           Word                  Desc    Code  \\\n",
      "Index                                                                       \n",
      "26716       1.53       93.30      надломить     гл сов перех инф   172279   \n",
      "15740       3.98       90.54        роспись   сущ неод ед жен им    17211   \n",
      "17862       3.24       91.31   изготовитель   сущ одуш ед муж им   130338   \n",
      "23286       2.02       92.70     автоматизм   сущ неод ед муж им   125826   \n",
      "31223       1.04       93.86  перекрикивать   гл несов перех инф   180752   \n",
      "2654       40.52       74.60      нормально        нар опред кач   202695   \n",
      "29990       1.16       93.73      убыточный        прл ед муж им   119400   \n",
      "13946       4.77       89.76   экономически        нар опред кач   206500   \n",
      "20641       2.51       92.11    пристукнуть     гл сов перех инф    90067   \n",
      "7253       12.30       84.65      улучшение    сущ неод ед ср им    45575   \n",
      "\n",
      "            Translit  Len  \n",
      "Index                      \n",
      "26716      NADLOMIT'    9  \n",
      "15740        ROSPIS'    7  \n",
      "17862   IZGOTOVITEL'   12  \n",
      "23286     AVTOMATIZM   10  \n",
      "31223  PEREKRIKIVAT'   13  \n",
      "2654       NORMAL'NO    9  \n",
      "29990     UBYTOCHNYJ   10  \n",
      "13946  EKONOMICHESKI   13  \n",
      "20641    PRISTUKNUT'   11  \n",
      "7253     ULUCHSHENIE   11  \n"
     ]
    }
   ],
   "source": [
    "rudict['Word'] = rudict['Word'].str.strip()\n",
    "rudict['Translit'] = rudict['Word'].map(lambda x: translit_ru(x, reversed=True)) #Perform transliteration\n",
    "rudict['Translit'] = rudict['Translit'].str.upper()\n",
    "rudict['Len'] = rudict['Translit'].str.len()"
   ]
  },
  {
   "cell_type": "code",
   "execution_count": 83,
   "metadata": {},
   "outputs": [],
   "source": [
    "rudict2 = rudict.copy()\n",
    "rudict2 = rudict2.query('Len >= 3 & Len < 8' ) #Select words between 3 and 7 symbols"
   ]
  },
  {
   "cell_type": "code",
   "execution_count": 84,
   "metadata": {},
   "outputs": [],
   "source": [
    "rudict2.to_csv('ru_freq_dict_translit.csv')"
   ]
  },
  {
   "cell_type": "code",
   "execution_count": 99,
   "metadata": {},
   "outputs": [],
   "source": [
    "#define a function that checks whether specific Cyrylic symbols present in a string\n",
    "def check_for_ru_chars(input_string):\n",
    "    commonchars = ['А','В','Е','Е','З','К','М','Н','О','Р','С','Т','У','Х'] #Assuming that 'З' can be replaced with number 3 and 'У' can be replaced with 'Y'\n",
    "    ruchars = ['Б','Г','Д','Ж','И','Й','Л','П','Ф','Ц','Ч','Ш','Щ','Ъ','Ы','Ь','Э','Ю','Я'] #Cyrylic chars that do not have analogs in English alphabet\n",
    "    if any(x in input_string for x in ruchars):\n",
    "        return True\n",
    "    else: return False"
   ]
  },
  {
   "cell_type": "code",
   "execution_count": 95,
   "metadata": {},
   "outputs": [
    {
     "name": "stdout",
     "output_type": "stream",
     "text": [
      "       Frequency  Percentage                Word                    Desc  \\\n",
      "Index                                                                      \n",
      "1       36358.94        3.64                   и                   союз    \n",
      "2       27792.36        6.42                   в               предл пр    \n",
      "3       20689.51        8.48                  не                   част    \n",
      "4       18942.62       10.38                  он     мест сущ ед муж им    \n",
      "5       16588.14       12.04                  на              предл вин    \n",
      "...          ...         ...                 ...                     ...   \n",
      "31571       1.04       93.90             сутенер     сущ одуш ед муж им    \n",
      "31572       1.04       93.90        обхохотаться   гл сов непер воз инф    \n",
      "31573       1.04       93.90         зажмуривать     гл несов перех инф    \n",
      "31574       1.04       93.90  главнокомандование      сущ неод ед ср им    \n",
      "31575       1.04       93.90          измотаться   гл сов непер воз инф    \n",
      "\n",
      "          Code            Translit  Len             RuUpper  RuUpperLen  \n",
      "Index                                                                    \n",
      "1       207131                   I    1                   И           1  \n",
      "2      4127891                   V    1                   В           1  \n",
      "3       207538                  NE    2                  НЕ           2  \n",
      "4        46361                  ON    2                  ОН           2  \n",
      "5      4127906                  NA    2                  НА           2  \n",
      "...        ...                 ...  ...                 ...         ...  \n",
      "31571   141082             SUTENER    7             СУТЕНЕР           7  \n",
      "31572   188103       OBHOHOTAT'SJA   13        ОБХОХОТАТЬСЯ          12  \n",
      "31573   179044        ZAZHMURIVAT'   12         ЗАЖМУРИВАТЬ          11  \n",
      "31574   167684  GLAVNOKOMANDOVANIE   18  ГЛАВНОКОМАНДОВАНИЕ          18  \n",
      "31575   187234         IZMOTAT'SJA   11          ИЗМОТАТЬСЯ          10  \n",
      "\n",
      "[31575 rows x 9 columns]\n"
     ]
    }
   ],
   "source": [
    "rudict['RuUpper'] = rudict['Word'].str.upper() #Change lower to upper case for Russian words\n",
    "rudict['RuUpperLen'] = rudict['RuUpper'].str.len()"
   ]
  },
  {
   "cell_type": "code",
   "execution_count": 100,
   "metadata": {},
   "outputs": [],
   "source": [
    "rudict['RuSymbols'] = rudict['RuUpper'].map(lambda x: check_for_ru_chars(x)) #Find words with and without Cyryloc symbols"
   ]
  },
  {
   "cell_type": "code",
   "execution_count": 101,
   "metadata": {},
   "outputs": [
    {
     "name": "stdout",
     "output_type": "stream",
     "text": [
      "       Frequency  Percentage                Word                    Desc  \\\n",
      "Index                                                                      \n",
      "1       36358.94        3.64                   и                   союз    \n",
      "2       27792.36        6.42                   в               предл пр    \n",
      "3       20689.51        8.48                  не                   част    \n",
      "4       18942.62       10.38                  он     мест сущ ед муж им    \n",
      "5       16588.14       12.04                  на              предл вин    \n",
      "...          ...         ...                 ...                     ...   \n",
      "31571       1.04       93.90             сутенер     сущ одуш ед муж им    \n",
      "31572       1.04       93.90        обхохотаться   гл сов непер воз инф    \n",
      "31573       1.04       93.90         зажмуривать     гл несов перех инф    \n",
      "31574       1.04       93.90  главнокомандование      сущ неод ед ср им    \n",
      "31575       1.04       93.90          измотаться   гл сов непер воз инф    \n",
      "\n",
      "          Code            Translit  Len             RuUpper  RuUpperLen  \\\n",
      "Index                                                                     \n",
      "1       207131                   I    1                   И           1   \n",
      "2      4127891                   V    1                   В           1   \n",
      "3       207538                  NE    2                  НЕ           2   \n",
      "4        46361                  ON    2                  ОН           2   \n",
      "5      4127906                  NA    2                  НА           2   \n",
      "...        ...                 ...  ...                 ...         ...   \n",
      "31571   141082             SUTENER    7             СУТЕНЕР           7   \n",
      "31572   188103       OBHOHOTAT'SJA   13        ОБХОХОТАТЬСЯ          12   \n",
      "31573   179044        ZAZHMURIVAT'   12         ЗАЖМУРИВАТЬ          11   \n",
      "31574   167684  GLAVNOKOMANDOVANIE   18  ГЛАВНОКОМАНДОВАНИЕ          18   \n",
      "31575   187234         IZMOTAT'SJA   11          ИЗМОТАТЬСЯ          10   \n",
      "\n",
      "       RuSymbols  \n",
      "Index             \n",
      "1           True  \n",
      "2          False  \n",
      "3          False  \n",
      "4          False  \n",
      "5          False  \n",
      "...          ...  \n",
      "31571      False  \n",
      "31572       True  \n",
      "31573       True  \n",
      "31574       True  \n",
      "31575       True  \n",
      "\n",
      "[31575 rows x 10 columns]\n"
     ]
    }
   ],
   "source": [
    "print(rudict)"
   ]
  },
  {
   "cell_type": "code",
   "execution_count": 102,
   "metadata": {},
   "outputs": [],
   "source": [
    "rudict.to_csv('ru_freq_dict_translit_full.csv', encoding='utf8') #Export dictionary to csv"
   ]
  },
  {
   "cell_type": "code",
   "execution_count": null,
   "metadata": {},
   "outputs": [],
   "source": []
  }
 ],
 "metadata": {
  "kernelspec": {
   "display_name": "Python 3",
   "language": "python",
   "name": "python3"
  },
  "language_info": {
   "codemirror_mode": {
    "name": "ipython",
    "version": 3
   },
   "file_extension": ".py",
   "mimetype": "text/x-python",
   "name": "python",
   "nbconvert_exporter": "python",
   "pygments_lexer": "ipython3",
   "version": "3.7.4"
  }
 },
 "nbformat": 4,
 "nbformat_minor": 2
}
