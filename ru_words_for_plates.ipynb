{
 "cells": [
  {
   "cell_type": "code",
   "execution_count": 1,
   "metadata": {},
   "outputs": [
    {
     "name": "stdout",
     "output_type": "stream",
     "text": [
      "Collecting transliterate\n",
      "\u001b[?25l  Downloading https://files.pythonhosted.org/packages/a1/6e/9a9d597dbdd6d0172427c8cc07c35736471e631060df9e59eeb87687f817/transliterate-1.10.2-py2.py3-none-any.whl (45kB)\n",
      "\u001b[K     |████████████████████████████████| 51kB 1.6MB/s eta 0:00:01\n",
      "\u001b[?25hRequirement already satisfied: six>=1.1.0 in /Applications/anaconda3/lib/python3.7/site-packages (from transliterate) (1.12.0)\n",
      "Installing collected packages: transliterate\n",
      "Successfully installed transliterate-1.10.2\n",
      "Note: you may need to restart the kernel to use updated packages.\n"
     ]
    }
   ],
   "source": [
    "pip install transliterate"
   ]
  },
  {
   "cell_type": "code",
   "execution_count": 2,
   "metadata": {},
   "outputs": [
    {
     "name": "stdout",
     "output_type": "stream",
     "text": [
      "Лорем ипсум долор сит амет\n"
     ]
    }
   ],
   "source": [
    "from transliterate import translit, get_available_language_codes\n",
    "text = \"Valera\"\n",
    "print(translit(text, 'ru'))"
   ]
  },
  {
   "cell_type": "code",
   "execution_count": 25,
   "metadata": {},
   "outputs": [],
   "source": [
    "#Change encoding of a text file\n",
    "import codecs\n",
    "BLOCKSIZE = 1048576 \n",
    "with codecs.open('ru_freq_dict.txt', \"r\", \"windows-1251\") as sourceFile:\n",
    "    with codecs.open('ru_freq_dict_utf.txt', \"w\", \"utf-8\") as targetFile:\n",
    "        while True:\n",
    "            contents = sourceFile.read(BLOCKSIZE)\n",
    "            if not contents:\n",
    "                break\n",
    "            targetFile.write(contents)"
   ]
  },
  {
   "cell_type": "code",
   "execution_count": 13,
   "metadata": {},
   "outputs": [
    {
     "name": "stdout",
     "output_type": "stream",
     "text": [
      "Requirement already satisfied: pandas in /Applications/anaconda3/lib/python3.7/site-packages (0.25.1)\n",
      "Requirement already satisfied: pytz>=2017.2 in /Applications/anaconda3/lib/python3.7/site-packages (from pandas) (2019.3)\n",
      "Requirement already satisfied: python-dateutil>=2.6.1 in /Applications/anaconda3/lib/python3.7/site-packages (from pandas) (2.8.0)\n",
      "Requirement already satisfied: numpy>=1.13.3 in /Applications/anaconda3/lib/python3.7/site-packages (from pandas) (1.17.2)\n",
      "Requirement already satisfied: six>=1.5 in /Applications/anaconda3/lib/python3.7/site-packages (from python-dateutil>=2.6.1->pandas) (1.12.0)\n",
      "Note: you may need to restart the kernel to use updated packages.\n"
     ]
    }
   ],
   "source": [
    "pip install pandas"
   ]
  },
  {
   "cell_type": "code",
   "execution_count": 41,
   "metadata": {},
   "outputs": [
    {
     "name": "stdout",
     "output_type": "stream",
     "text": [
      "       Frequency  Percentage                  Word                    Desc  \\\n",
      "Index                                                                        \n",
      "1       36358.94        3.64                    и                    союз    \n",
      "2       27792.36        6.42                    в                предл пр    \n",
      "3       20689.51        8.48                   не                    част    \n",
      "4       18942.62       10.38                   он      мест сущ ед муж им    \n",
      "5       16588.14       12.04                   на               предл вин    \n",
      "...          ...         ...                   ...                     ...   \n",
      "31571       1.04       93.90              сутенер      сущ одуш ед муж им    \n",
      "31572       1.04       93.90         обхохотаться    гл сов непер воз инф    \n",
      "31573       1.04       93.90          зажмуривать      гл несов перех инф    \n",
      "31574       1.04       93.90   главнокомандование       сущ неод ед ср им    \n",
      "31575       1.04       93.90           измотаться    гл сов непер воз инф    \n",
      "\n",
      "          Code  \n",
      "Index           \n",
      "1       207131  \n",
      "2      4127891  \n",
      "3       207538  \n",
      "4        46361  \n",
      "5      4127906  \n",
      "...        ...  \n",
      "31571   141082  \n",
      "31572   188103  \n",
      "31573   179044  \n",
      "31574   167684  \n",
      "31575   187234  \n",
      "\n",
      "[31575 rows x 5 columns]\n"
     ]
    }
   ],
   "source": [
    "import pandas\n",
    "\n",
    "#Import dictionary\n",
    "rudict = pandas.read_csv('ru_freq_dict_utf.txt',\n",
    "                         sep=\"|\",\n",
    "                         encoding='utf8',\n",
    "                         names=['Index','Frequency','Percentage','Word','Desc','Code'],\n",
    "                        index_col='Index')\n",
    "print(rudict)"
   ]
  },
  {
   "cell_type": "code",
   "execution_count": 32,
   "metadata": {},
   "outputs": [
    {
     "name": "stdout",
     "output_type": "stream",
     "text": [
      "       Frequency  Percentage              Word                    Desc  \\\n",
      "Index                                                                    \n",
      "5717       16.65       82.44            талия      сущ неод ед жен им    \n",
      "13361       5.14       89.47      поместиться    гл сов непер воз инф    \n",
      "8054       10.59       85.56   уполномоченный           прл ед муж им    \n",
      "3457       30.30       77.40          включая               предл вин    \n",
      "30822       1.10       93.82    бесконтактный           прл ед муж им    \n",
      "13043       5.33       89.30              нэп      сущ неод ед муж им    \n",
      "9035        9.06       86.52         ускорить        гл сов перех инф    \n",
      "29154       1.22       93.63         формалин      сущ неод ед муж им    \n",
      "4205       24.24       79.42          рабочий           прл ед муж им    \n",
      "988       111.71       63.73         художник      сущ одуш ед муж им    \n",
      "\n",
      "          Code  \n",
      "Index           \n",
      "5717    159259  \n",
      "13361  1965652  \n",
      "8054    119683  \n",
      "3457   4128028  \n",
      "30822   101277  \n",
      "13043   134820  \n",
      "9035     98417  \n",
      "29154   142813  \n",
      "4205     54779  \n",
      "988      35169  \n"
     ]
    }
   ],
   "source": [
    "print(rudict.sample(n=10))"
   ]
  },
  {
   "cell_type": "code",
   "execution_count": 73,
   "metadata": {
    "scrolled": true
   },
   "outputs": [
    {
     "name": "stdout",
     "output_type": "stream",
     "text": [
      "       Frequency  Percentage               Word                    Desc  \\\n",
      "Index                                                                     \n",
      "24457       1.84       92.92       хлопотливый           прл ед муж им    \n",
      "30923       1.04       93.83             лютня      сущ неод ед жен им    \n",
      "9720        8.20       87.11          ровесник      сущ одуш ед муж им    \n",
      "449       219.38       55.55           зеленый           прл ед муж им    \n",
      "1630       68.31       69.27             редко           нар опред кач    \n",
      "10166       7.71       87.46        рассеяться    гл сов непер воз инф    \n",
      "26237       1.59       93.22           изумить        гл сов перех инф    \n",
      "7624       11.45       85.09          грузовой           прл ед муж им    \n",
      "16071       3.86       90.67          штанишки          сущ неод мн им    \n",
      "7853       11.02       85.34         натворить        гл сов перех инф    \n",
      "27094       1.47       93.35           деланно           нар опред кач    \n",
      "31354       1.04       93.88             кроль      сущ неод ед муж им    \n",
      "21731       2.26       92.37        лицемерный           прл ед муж им    \n",
      "19158       2.88       91.71             пицца      сущ неод ед жен им    \n",
      "19160       2.88       91.71          калечить      гл несов перех инф    \n",
      "14443       4.53       89.99       непосильный           прл ед муж им    \n",
      "12193       5.88       88.82          аэрофлот      сущ неод ед муж им    \n",
      "24985       1.71       93.02        мореходный           прл ед муж им    \n",
      "18441       3.12       91.49        закупорить        гл сов перех инф    \n",
      "21313       2.39       92.27   мелкобуржуазный           прл ед муж им    \n",
      "\n",
      "          Code          Translit  Len  \n",
      "Index                                  \n",
      "24457   120416       hlopotlivyj   11  \n",
      "30923     9425           ljutnja    7  \n",
      "9720    138996          rovesnik    8  \n",
      "449      49523           zelenyj    7  \n",
      "1630    204888             redko    5  \n",
      "10166   190425      rassejat'sja   12  \n",
      "26237    76402           izumit'    7  \n",
      "7624     48513          gruzovoj    8  \n",
      "16071  1587441        shtanishki   10  \n",
      "7853     79425         natvorit'    9  \n",
      "27094   199842           delanno    7  \n",
      "31354   132092             krol'    5  \n",
      "21731    50833       litsemernyj   11  \n",
      "19158   154731           pitstsa    7  \n",
      "19160    60782         kalechit'    9  \n",
      "14443    52314       neposil'nyj   11  \n",
      "12193  1165391          aeroflot    8  \n",
      "24985   109098        morehodnyj   10  \n",
      "18441    73929        zakuporit'   10  \n",
      "21313   108561  melkoburzhuaznyj   16  \n"
     ]
    }
   ],
   "source": [
    "rudict['Translit'] = rudict['Word'].map(lambda x: translit_ru(x, reversed=True)) #Perform transliteration\n",
    "rudict['Translit'] = rudict['Translit'].str.strip()\n",
    "rudict['Len'] = rudict['Translit'].str.len()\n",
    "print(rudict.sample(n=20))\n",
    "rudict.to_csv('ru_freq_dict_translit_full.csv', encoding='utf8')"
   ]
  },
  {
   "cell_type": "code",
   "execution_count": 67,
   "metadata": {},
   "outputs": [],
   "source": [
    "rudict2 = rudict.copy()\n",
    "rudict2 = rudict2.query('Len >= 3 & Len < 8' ) #Select words between 3 and 7 symbols"
   ]
  },
  {
   "cell_type": "code",
   "execution_count": 70,
   "metadata": {},
   "outputs": [
    {
     "name": "stdout",
     "output_type": "stream",
     "text": [
      "       Frequency  Percentage       Word                   Desc     Code  \\\n",
      "Index                                                                     \n",
      "7       12546.08       14.85       что                   союз    207328   \n",
      "8       11398.44       15.99       тот    мест прил ед муж им   4013796   \n",
      "9       11223.99       17.12      быть      гл 2вид непер инф     67848   \n",
      "12       8604.72       20.07      весь    мест прил ед муж им   4013993   \n",
      "13       8043.90       20.88       это     мест прил ед ср им   4013833   \n",
      "...          ...         ...        ...                    ...      ...   \n",
      "31540       1.04       93.90   ломбард     сущ неод ед муж им   1214864   \n",
      "31545       1.04       93.90   хуторок     сущ неод ед муж им    143296   \n",
      "31552       1.04       93.90    донный          прл ед муж им    104107   \n",
      "31561       1.04       93.90   несение      сущ неод ед ср им    169634   \n",
      "31571       1.04       93.90   сутенер     сущ одуш ед муж им    141082   \n",
      "\n",
      "      Translit  Len  \n",
      "Index                \n",
      "7         chto    4  \n",
      "8          tot    3  \n",
      "9         byt'    4  \n",
      "12        ves'    4  \n",
      "13         eto    3  \n",
      "...        ...  ...  \n",
      "31540  lombard    7  \n",
      "31545  hutorok    7  \n",
      "31552   donnyj    6  \n",
      "31561  nesenie    7  \n",
      "31571  sutener    7  \n",
      "\n",
      "[9592 rows x 7 columns]\n"
     ]
    }
   ],
   "source": [
    "print(rudict2)"
   ]
  },
  {
   "cell_type": "code",
   "execution_count": 71,
   "metadata": {},
   "outputs": [],
   "source": [
    "rudict2.to_csv('ru_freq_dict_translit.csv')"
   ]
  },
  {
   "cell_type": "code",
   "execution_count": null,
   "metadata": {},
   "outputs": [],
   "source": []
  }
 ],
 "metadata": {
  "kernelspec": {
   "display_name": "Python 3",
   "language": "python",
   "name": "python3"
  },
  "language_info": {
   "codemirror_mode": {
    "name": "ipython",
    "version": 3
   },
   "file_extension": ".py",
   "mimetype": "text/x-python",
   "name": "python",
   "nbconvert_exporter": "python",
   "pygments_lexer": "ipython3",
   "version": "3.7.4"
  }
 },
 "nbformat": 4,
 "nbformat_minor": 2
}
